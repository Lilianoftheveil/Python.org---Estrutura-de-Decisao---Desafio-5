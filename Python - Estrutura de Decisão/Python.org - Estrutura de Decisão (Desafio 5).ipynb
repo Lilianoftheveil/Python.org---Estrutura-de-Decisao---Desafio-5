{
 "cells": [
  {
   "cell_type": "code",
   "execution_count": null,
   "id": "f704985c",
   "metadata": {},
   "outputs": [],
   "source": [
    "Python - Lista de Exercícios (Estrutura de Decisão) \n",
    "link: https://wiki.python.org.br/EstruturaDeDecisao"
   ]
  },
  {
   "cell_type": "markdown",
   "id": "f36f0365",
   "metadata": {},
   "source": [
    "5) Faça um programa para a leitura de duas notas parciais de um aluno. O programa deve calcular a média alcançada por aluno e apresentar:\n",
    "* A mensagem \"Aprovado\", se a média alcançada for maior ou igual a sete;\n",
    "* A mensagem \"Reprovado\", se a média for menor do que sete;\n",
    "* A mensagem \"Aprovado com Distinção\", se a média for igual a dez."
   ]
  },
  {
   "cell_type": "code",
   "execution_count": null,
   "id": "291025e7",
   "metadata": {},
   "outputs": [],
   "source": [
    "Obs.: Visando desenvolver o programa de forma mais dinâmica e menos suscetível a erros, adicionei \n",
    "outras estruturas no corpo do código. De modo que apenas números sejam aceitos durante sua\n",
    "execução."
   ]
  },
  {
   "cell_type": "code",
   "execution_count": null,
   "id": "eb6d47b6",
   "metadata": {},
   "outputs": [],
   "source": [
    "while True:\n",
    "  x = input(\"Primeira Nota: \")\n",
    "  y = input(\"Segunda Nota: \")\n",
    "  try:\n",
    "    float(x), float(y)\n",
    "    z = (float(x) + float(y)) / 2\n",
    "    if float(z) == 10:\n",
    "      print(\"Aprovado com Distinção\")\n",
    "      break\n",
    "    elif float(z) >= 7 and float(z) < 9.9:\n",
    "      print(\"Aprovado\")\n",
    "      break\n",
    "    elif float(z) < 7:\n",
    "      print(\"Reprovado\")\n",
    "      break\n",
    "    elif float(z) > 10:\n",
    "      print(\"Ambas as notas devem possuir valor máximo de 10 pontos.\")\n",
    "      continue\n",
    "  except:\n",
    "    print(\"Por favor, digite apenas números.\")\n",
    "    continue"
   ]
  }
 ],
 "metadata": {
  "kernelspec": {
   "display_name": "Python 3 (ipykernel)",
   "language": "python",
   "name": "python3"
  },
  "language_info": {
   "codemirror_mode": {
    "name": "ipython",
    "version": 3
   },
   "file_extension": ".py",
   "mimetype": "text/x-python",
   "name": "python",
   "nbconvert_exporter": "python",
   "pygments_lexer": "ipython3",
   "version": "3.8.10"
  }
 },
 "nbformat": 4,
 "nbformat_minor": 5
}
